{
  "nbformat": 4,
  "nbformat_minor": 0,
  "metadata": {
    "colab": {
      "name": "gradient_descent.ipynb",
      "provenance": [],
      "collapsed_sections": [],
      "include_colab_link": true
    },
    "kernelspec": {
      "name": "python3",
      "display_name": "Python 3"
    }
  },
  "cells": [
    {
      "cell_type": "markdown",
      "metadata": {
        "id": "view-in-github",
        "colab_type": "text"
      },
      "source": [
        "<a href=\"https://colab.research.google.com/github/VasoMtsituri/google_colab/blob/master/gradient_descent.ipynb\" target=\"_parent\"><img src=\"https://colab.research.google.com/assets/colab-badge.svg\" alt=\"Open In Colab\"/></a>"
      ]
    },
    {
      "cell_type": "code",
      "metadata": {
        "id": "IqqRYaVFZlI-",
        "colab_type": "code",
        "colab": {}
      },
      "source": [
        "import numpy as np\n",
        "import matplotlib.pyplot as plt\n",
        "%matplotlib inline"
      ],
      "execution_count": 0,
      "outputs": []
    },
    {
      "cell_type": "code",
      "metadata": {
        "id": "hsJL6_ljZ2di",
        "colab_type": "code",
        "colab": {}
      },
      "source": [
        "x = np.random.rand(100, 1)"
      ],
      "execution_count": 0,
      "outputs": []
    },
    {
      "cell_type": "code",
      "metadata": {
        "id": "VF5J32SuwwRJ",
        "colab_type": "code",
        "colab": {}
      },
      "source": [
        "y = 4 + 3*x + np.random.randn(100, 1)"
      ],
      "execution_count": 0,
      "outputs": []
    },
    {
      "cell_type": "code",
      "metadata": {
        "id": "7Oei_o84x7lK",
        "colab_type": "code",
        "outputId": "438eacbc-19ff-41ad-c3b8-f8105c71e9db",
        "colab": {
          "base_uri": "https://localhost:8080/",
          "height": 287
        }
      },
      "source": [
        "plt.plot(x, y, '.b')\n",
        "plt.xlabel('$x$', fontsize=18)\n",
        "plt.ylabel('$y$', rotation=0, fontsize=18)\n",
        "ax = plt.axis([0,2,0,15])"
      ],
      "execution_count": 4,
      "outputs": [
        {
          "output_type": "display_data",
          "data": {
            "image/png": "[encoded data removed]",
            "text/plain": [
              "<Figure size 432x288 with 1 Axes>"
            ]
          },
          "metadata": {
            "tags": []
          }
        }
      ]
    },
    {
      "cell_type": "code",
      "metadata": {
        "id": "i9n4LPEwy33l",
        "colab_type": "code",
        "colab": {}
      },
      "source": [
        "x_b = np.c_[np.ones((100, 1)), x]"
      ],
      "execution_count": 0,
      "outputs": []
    },
    {
      "cell_type": "code",
      "metadata": {
        "id": "x0g_fqmt5P-5",
        "colab_type": "code",
        "colab": {}
      },
      "source": [
        "theta_best = np.linalg.inv(x_b.T.dot(x_b)).dot(x_b.T).dot(y)"
      ],
      "execution_count": 0,
      "outputs": []
    },
    {
      "cell_type": "code",
      "metadata": {
        "id": "zwWwXj7h9IsA",
        "colab_type": "code",
        "outputId": "0ca86e73-0bc2-4c07-9265-1e5cae8ce5e9",
        "colab": {
          "base_uri": "https://localhost:8080/",
          "height": 51
        }
      },
      "source": [
        "theta_best"
      ],
      "execution_count": 7,
      "outputs": [
        {
          "output_type": "execute_result",
          "data": {
            "text/plain": [
              "array([[4.26764994],\n",
              "       [2.78649898]])"
            ]
          },
          "metadata": {
            "tags": []
          },
          "execution_count": 7
        }
      ]
    },
    {
      "cell_type": "code",
      "metadata": {
        "id": "pniALZz-o__d",
        "colab_type": "code",
        "colab": {}
      },
      "source": [
        "def cost_f(theta, x, y):\n",
        "  m = len(y)\n",
        "  pred = x.dot(theta)\n",
        "  cost_value = np.sum(np.square(pred - y))\n",
        "  \n",
        "  return cost_value"
      ],
      "execution_count": 0,
      "outputs": []
    },
    {
      "cell_type": "code",
      "metadata": {
        "id": "i8HvEapVp4WY",
        "colab_type": "code",
        "colab": {}
      },
      "source": [
        "def gradient_descent(x, y, theta, alpha=0.05, iter_n=1500):\n",
        "  m = len(y)\n",
        "  cost_h = np.zeros(iter_n)\n",
        "  theta_h = np.zeros((iter_n, 2))\n",
        "\n",
        "  for iter in range(iter_n):\n",
        "    pred = np.dot(x, theta)\n",
        "    theta -= 1/m * alpha * (x.T.dot(pred - y))\n",
        "    theta_h[iter:] = theta.T\n",
        "    cost_h[iter] = cost_f(theta, x, y)\n",
        "\n",
        "  return theta, cost_h, theta_h"
      ],
      "execution_count": 0,
      "outputs": []
    },
    {
      "cell_type": "code",
      "metadata": {
        "id": "hHIYS-ZAtpTe",
        "colab_type": "code",
        "colab": {}
      },
      "source": [
        "theta = np.random.randn(2,1)\n",
        "\n",
        "x_b = np.c_[np.ones((len(x),1)), x]\n",
        "theta, cost_h, theta_h = gradient_descent(x_b,y,theta)"
      ],
      "execution_count": 0,
      "outputs": []
    },
    {
      "cell_type": "code",
      "metadata": {
        "id": "00SOS5194T_k",
        "colab_type": "code",
        "outputId": "46ed28d5-2fa1-4341-88c4-4d7d0e14394e",
        "colab": {
          "base_uri": "https://localhost:8080/",
          "height": 68
        }
      },
      "source": [
        "print('Theta0:          {:0.3f},\\nTheta1:          {:0.3f}'.format(theta[0][0],theta[1][0]))\n",
        "print('Final cost/MSE:  {:0.3f}'.format(cost_h[-1]))"
      ],
      "execution_count": 11,
      "outputs": [
        {
          "output_type": "stream",
          "text": [
            "Theta0:          4.271,\n",
            "Theta1:          2.781\n",
            "Final cost/MSE:  97.411\n"
          ],
          "name": "stdout"
        }
      ]
    },
    {
      "cell_type": "markdown",
      "metadata": {
        "id": "tXKAwAWLOj9H",
        "colab_type": "text"
      },
      "source": [
        "# Stochastic Gradient Descent"
      ]
    },
    {
      "cell_type": "code",
      "metadata": {
        "id": "7J8b_mtqOkhw",
        "colab_type": "code",
        "colab": {}
      },
      "source": [
        "def stocashtic_gradient_descent(X,y,theta,learning_rate=0.01,iterations=10):\n",
        "    '''\n",
        "    X    = Matrix of X with added bias units\n",
        "    y    = Vector of Y\n",
        "    theta=Vector of thetas np.random.randn(j,1)\n",
        "    learning_rate \n",
        "    iterations = no of iterations\n",
        "    \n",
        "    Returns the final theta vector and array of cost history over no of iterations\n",
        "    '''\n",
        "    m = len(y)\n",
        "    cost_history = np.zeros(iterations)\n",
        "    \n",
        "    \n",
        "    for it in range(iterations):\n",
        "        cost =0.0\n",
        "        for i in range(m):\n",
        "            rand_ind = np.random.randint(0,m)\n",
        "            X_i = X[rand_ind,:].reshape(1,X.shape[1])\n",
        "            y_i = y[rand_ind].reshape(1,1)\n",
        "            prediction = np.dot(X_i,theta)\n",
        "\n",
        "            theta = theta -(1/m)*learning_rate*( X_i.T.dot((prediction - y_i)))\n",
        "            cost += cost_f(theta,X_i,y_i)\n",
        "        cost_history[it]  = cost\n",
        "        \n",
        "    return theta, cost_history"
      ],
      "execution_count": 0,
      "outputs": []
    },
    {
      "cell_type": "code",
      "metadata": {
        "id": "sIjEtOx2Oq52",
        "colab_type": "code",
        "colab": {}
      },
      "source": [
        "lr =0.5\n",
        "n_iter = 50\n",
        "\n",
        "theta = np.random.randn(2,1)"
      ],
      "execution_count": 0,
      "outputs": []
    },
    {
      "cell_type": "code",
      "metadata": {
        "id": "WT1OBlIEO6jH",
        "colab_type": "code",
        "colab": {}
      },
      "source": [
        "X_b = np.c_[np.ones((len(x),1)),x]\n",
        "theta,cost_history = stocashtic_gradient_descent(X_b,y,theta,lr,n_iter)"
      ],
      "execution_count": 0,
      "outputs": []
    },
    {
      "cell_type": "code",
      "metadata": {
        "id": "nY2xRu5vO822",
        "colab_type": "code",
        "colab": {
          "base_uri": "https://localhost:8080/",
          "height": 68
        },
        "outputId": "296ec696-8ba6-4c96-df43-753ad4d85fec"
      },
      "source": [
        "print('Theta0: {:0.3f},\\nTheta1: {:0.3f}'.format(theta[0][0],theta[1][0]))\n",
        "print('Final cost/MSE: {:0.3f}'.format(cost_history[-1]))"
      ],
      "execution_count": 15,
      "outputs": [
        {
          "output_type": "stream",
          "text": [
            "Theta0: 4.149,\n",
            "Theta1: 2.999\n",
            "Final cost/MSE: 70.938\n"
          ],
          "name": "stdout"
        }
      ]
    }
  ]
}