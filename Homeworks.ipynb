{
  "nbformat": 4,
  "nbformat_minor": 0,
  "metadata": {
    "colab": {
      "name": "Homeworks.ipynb",
      "provenance": [],
      "collapsed_sections": [],
      "include_colab_link": true
    },
    "kernelspec": {
      "name": "python3",
      "display_name": "Python 3"
    }
  },
  "cells": [
    {
      "cell_type": "markdown",
      "metadata": {
        "id": "view-in-github",
        "colab_type": "text"
      },
      "source": [
        "<a href=\"https://colab.research.google.com/github/VasoMtsituri/google_colab/blob/master/Homeworks.ipynb\" target=\"_parent\"><img src=\"https://colab.research.google.com/assets/colab-badge.svg\" alt=\"Open In Colab\"/></a>"
      ]
    },
    {
      "cell_type": "markdown",
      "metadata": {
        "id": "v0yubSzDAY0Z",
        "colab_type": "text"
      },
      "source": [
        "1)We say that element $a \\in A$ if element $a$ belongs to set $A$ and $a \\notin A$ in the other case. Let's prove the following theorem: Every set is a subset of itself: $ \\forall A : A \\subseteq A$"
      ]
    },
    {
      "cell_type": "markdown",
      "metadata": {
        "id": "CuvTYyNMIQZ_",
        "colab_type": "text"
      },
      "source": [
        "Proof:"
      ]
    },
    {
      "cell_type": "markdown",
      "metadata": {
        "id": "YJAPzbBqITSm",
        "colab_type": "text"
      },
      "source": [
        "$\\forall a : (a \\in A \\to a \\in A) \\to A \\subseteq A$ (By law of identity, then definition of subset)"
      ]
    },
    {
      "cell_type": "markdown",
      "metadata": {
        "id": "SXwRNZ-rR1vk",
        "colab_type": "text"
      },
      "source": [
        "2)Let's say that $A$ and $B$ are any sets. We say that $x \\in (A \\cap B)  \\iff x  \\in A \\land x \\in B$ . Let's prove that intersection is commutative for sets."
      ]
    },
    {
      "cell_type": "markdown",
      "metadata": {
        "id": "UBHORHZOUoBV",
        "colab_type": "text"
      },
      "source": [
        "Proof:"
      ]
    },
    {
      "cell_type": "markdown",
      "metadata": {
        "id": "xj8YWgo4Up3I",
        "colab_type": "text"
      },
      "source": [
        "By the definition above and assumption, that Conjunction is commutative, we get: $x \\in (A \\cap B) \\iff x \\in A \\land x \\in B \\iff x \\in B \\land x \\in A \\iff x \\in (B \\cap A)$"
      ]
    }
  ]
}