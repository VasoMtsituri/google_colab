{
  "nbformat": 4,
  "nbformat_minor": 0,
  "metadata": {
    "colab": {
      "name": "Homeworks.ipynb",
      "provenance": [],
      "include_colab_link": true
    },
    "kernelspec": {
      "name": "python3",
      "display_name": "Python 3"
    }
  },
  "cells": [
    {
      "cell_type": "markdown",
      "metadata": {
        "id": "view-in-github",
        "colab_type": "text"
      },
      "source": [
        "<a href=\"https://colab.research.google.com/github/VasoMtsituri/google_colab/blob/master/Homeworks.ipynb\" target=\"_parent\"><img src=\"https://colab.research.google.com/assets/colab-badge.svg\" alt=\"Open In Colab\"/></a>"
      ]
    },
    {
      "cell_type": "markdown",
      "metadata": {
        "id": "v0yubSzDAY0Z",
        "colab_type": "text"
      },
      "source": [
        "We say that element $a \\in A$ if element $a$ belongs to set $A$ and $a \\notin A$ in the other case. Let's prove the following theorem: Every set is a subset of itself: $ \\forall A : A \\subseteq A$"
      ]
    },
    {
      "cell_type": "markdown",
      "metadata": {
        "id": "CuvTYyNMIQZ_",
        "colab_type": "text"
      },
      "source": [
        "Proof:"
      ]
    },
    {
      "cell_type": "markdown",
      "metadata": {
        "id": "YJAPzbBqITSm",
        "colab_type": "text"
      },
      "source": [
        "$\\forall a : (a \\in A \\to a \\in A) \\to A \\subseteq A$ (By law of identity, then definition of subset)"
      ]
    }
  ]
}